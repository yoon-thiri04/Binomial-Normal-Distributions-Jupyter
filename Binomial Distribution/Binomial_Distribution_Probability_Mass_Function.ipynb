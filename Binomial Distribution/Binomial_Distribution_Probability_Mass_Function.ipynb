{
 "cells": [
  {
   "cell_type": "code",
   "execution_count": 3,
   "id": "a7fc879c",
   "metadata": {},
   "outputs": [],
   "source": [
    "import math\n",
    "class Binomial:\n",
    "    def __init__(self,n=0,p=0.1,k=0):\n",
    "        self.total_num=n\n",
    "        self.probability=p\n",
    "        self.choose=k\n",
    "    def pmf_b(self):\n",
    "        n=self.total_num\n",
    "        k=self.choose\n",
    "        p=self.probability/n\n",
    "        return ((math.factorial(n)/(math.factorial(k)*math.factorial(n-k)))*(p**k)*((1-p)**(n-k)))"
   ]
  },
  {
   "cell_type": "code",
   "execution_count": 4,
   "id": "f5e61859",
   "metadata": {},
   "outputs": [
    {
     "name": "stdout",
     "output_type": "stream",
     "text": [
      "0.029531204310524296\n"
     ]
    }
   ],
   "source": [
    "binomial=Binomial(50,10,5)\n",
    "pmf_b=binomial.pmf_b()\n",
    "print(pmf_b)"
   ]
  },
  {
   "cell_type": "code",
   "execution_count": null,
   "id": "b2a6dc04",
   "metadata": {},
   "outputs": [],
   "source": []
  }
 ],
 "metadata": {
  "kernelspec": {
   "display_name": "Python 3 (ipykernel)",
   "language": "python",
   "name": "python3"
  },
  "language_info": {
   "codemirror_mode": {
    "name": "ipython",
    "version": 3
   },
   "file_extension": ".py",
   "mimetype": "text/x-python",
   "name": "python",
   "nbconvert_exporter": "python",
   "pygments_lexer": "ipython3",
   "version": "3.11.5"
  }
 },
 "nbformat": 4,
 "nbformat_minor": 5
}
